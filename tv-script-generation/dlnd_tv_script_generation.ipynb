{
 "cells": [
  {
   "cell_type": "markdown",
   "metadata": {},
   "source": [
    "# TV Script Generation\n",
    "In this project, you'll generate your own [Simpsons](https://en.wikipedia.org/wiki/The_Simpsons) TV scripts using RNNs.  You'll be using part of the [Simpsons dataset](https://www.kaggle.com/wcukierski/the-simpsons-by-the-data) of scripts from 27 seasons.  The Neural Network you'll build will generate a new TV script for a scene at [Moe's Tavern](https://simpsonswiki.com/wiki/Moe's_Tavern).\n",
    "## Get the Data\n",
    "The data is already provided for you.  You'll be using a subset of the original dataset.  It consists of only the scenes in Moe's Tavern.  This doesn't include other versions of the tavern, like \"Moe's Cavern\", \"Flaming Moe's\", \"Uncle Moe's Family Feed-Bag\", etc.."
   ]
  },
  {
   "cell_type": "code",
   "execution_count": 157,
   "metadata": {
    "collapsed": false
   },
   "outputs": [
    {
     "name": "stdout",
     "output_type": "stream",
     "text": [
      "oe_Szyslak: (INTO PHONE) Moe's Tavern. Where the elite meet to drink.\n",
      "Bart_Simpson: Eh, yeah, hello\n"
     ]
    }
   ],
   "source": [
    "\"\"\"\n",
    "DON'T MODIFY ANYTHING IN THIS CELL\n",
    "\"\"\"\n",
    "import helper\n",
    "\n",
    "data_dir = './data/simpsons/moes_tavern_lines.txt'\n",
    "text = helper.load_data(data_dir)\n",
    "# Ignore notice, since we don't use it for analysing the data\n",
    "text = text[81:]\n",
    "print (text[1:100])\n",
    "#print (len(text))"
   ]
  },
  {
   "cell_type": "markdown",
   "metadata": {},
   "source": [
    "## Explore the Data\n",
    "Play around with `view_sentence_range` to view different parts of the data."
   ]
  },
  {
   "cell_type": "code",
   "execution_count": 158,
   "metadata": {
    "collapsed": false
   },
   "outputs": [
    {
     "name": "stdout",
     "output_type": "stream",
     "text": [
      "Dataset Stats\n",
      "Roughly the number of unique words: 11492\n",
      "Number of scenes: 262\n",
      "Average number of sentences in each scene: 15.248091603053435\n",
      "Number of lines: 4257\n",
      "Average number of words in each line: 11.50434578341555\n",
      "\n",
      "The sentences 0 to 10:\n",
      "Moe_Szyslak: (INTO PHONE) Moe's Tavern. Where the elite meet to drink.\n",
      "Bart_Simpson: Eh, yeah, hello, is Mike there? Last name, Rotch.\n",
      "Moe_Szyslak: (INTO PHONE) Hold on, I'll check. (TO BARFLIES) Mike Rotch. Mike Rotch. Hey, has anybody seen Mike Rotch, lately?\n",
      "Moe_Szyslak: (INTO PHONE) Listen you little puke. One of these days I'm gonna catch you, and I'm gonna carve my name on your back with an ice pick.\n",
      "Moe_Szyslak: What's the matter Homer? You're not your normal effervescent self.\n",
      "Homer_Simpson: I got my problems, Moe. Give me another one.\n",
      "Moe_Szyslak: Homer, hey, you should not drink to forget your problems.\n",
      "Barney_Gumble: Yeah, you should only drink to enhance your social skills.\n",
      "\n",
      "\n"
     ]
    }
   ],
   "source": [
    "view_sentence_range = (0, 10)\n",
    "\n",
    "\"\"\"\n",
    "DON'T MODIFY ANYTHING IN THIS CELL\n",
    "\"\"\"\n",
    "import numpy as np\n",
    "\n",
    "print('Dataset Stats')\n",
    "print('Roughly the number of unique words: {}'.format(len({word: None for word in text.split()})))\n",
    "scenes = text.split('\\n\\n')\n",
    "#scenes = text.split('\\n\\n')[1:4]\n",
    "#print(scenes)\n",
    "print('Number of scenes: {}'.format(len(scenes)))\n",
    "sentence_count_scene = [scene.count('\\n') for scene in scenes]\n",
    "#print (sentence_count_scene)\n",
    "print('Average number of sentences in each scene: {}'.format(np.average(sentence_count_scene)))\n",
    "\n",
    "sentences = [sentence for scene in scenes for sentence in scene.split('\\n')]\n",
    "print('Number of lines: {}'.format(len(sentences)))\n",
    "word_count_sentence = [len(sentence.split()) for sentence in sentences]\n",
    "print('Average number of words in each line: {}'.format(np.average(word_count_sentence)))\n",
    "\n",
    "print()\n",
    "print('The sentences {} to {}:'.format(*view_sentence_range))\n",
    "print('\\n'.join(text.split('\\n')[view_sentence_range[0]:view_sentence_range[1]]))"
   ]
  },
  {
   "cell_type": "markdown",
   "metadata": {},
   "source": [
    "## Implement Preprocessing Functions\n",
    "The first thing to do to any dataset is preprocessing.  Implement the following preprocessing functions below:\n",
    "- Lookup Table\n",
    "- Tokenize Punctuation\n",
    "\n",
    "### Lookup Table\n",
    "To create a word embedding, you first need to transform the words to ids.  In this function, create two dictionaries:\n",
    "- Dictionary to go from the words to an id, we'll call `vocab_to_int`\n",
    "- Dictionary to go from the id to word, we'll call `int_to_vocab`\n",
    "\n",
    "Return these dictionaries in the following tuple `(vocab_to_int, int_to_vocab)`"
   ]
  },
  {
   "cell_type": "code",
   "execution_count": 159,
   "metadata": {
    "collapsed": false
   },
   "outputs": [
    {
     "name": "stdout",
     "output_type": "stream",
     "text": [
      "Tests Passed\n"
     ]
    }
   ],
   "source": [
    "import numpy as np\n",
    "import problem_unittests as tests\n",
    "\n",
    "def create_lookup_tables(text):\n",
    "    \"\"\"\n",
    "    Create lookup tables for vocabulary\n",
    "    :param text: The text of tv scripts split into words\n",
    "    :return: A tuple of dicts (vocab_to_int, int_to_vocab)\n",
    "    \"\"\"\n",
    "    # TODO: Implement Function\n",
    "    vocab = sorted(set(text))\n",
    "    #print (len(vocab))\n",
    "    vocab_to_int={word: value for value , word in enumerate (vocab)}\n",
    "    int_to_vocab = { value : each for value , each in enumerate(vocab)}\n",
    "    #vocab_to_int_keys= list(vocab_to_int.keys())\n",
    "    #vocab_to_int_values= list(vocab_to_int.values())\n",
    "    #int_to_vocab_keys= list(int_to_vocab.keys())\n",
    "    #int_to_vocab_values= list(int_to_vocab.values())\n",
    "    #print(vocab_to_int_keys[0:5])\n",
    "    #print(vocab_to_int_values[0:5])\n",
    "    #print(int_to_vocab_keys[0:5])\n",
    "    #print(int_to_vocab_values[0:5])\n",
    "    #print(int_to_vocab[21])\n",
    "    return (vocab_to_int, int_to_vocab)\n",
    "\n",
    "\n",
    "\"\"\"\n",
    "DON'T MODIFY ANYTHING IN THIS CELL THAT IS BELOW THIS LINE\n",
    "\"\"\"\n",
    "tests.test_create_lookup_tables(create_lookup_tables)"
   ]
  },
  {
   "cell_type": "markdown",
   "metadata": {},
   "source": [
    "### Tokenize Punctuation\n",
    "We'll be splitting the script into a word array using spaces as delimiters.  However, punctuations like periods and exclamation marks make it hard for the neural network to distinguish between the word \"bye\" and \"bye!\".\n",
    "\n",
    "Implement the function `token_lookup` to return a dict that will be used to tokenize symbols like \"!\" into \"||Exclamation_Mark||\".  Create a dictionary for the following symbols where the symbol is the key and value is the token:\n",
    "- Period ( . )\n",
    "- Comma ( , )\n",
    "- Quotation Mark ( \" )\n",
    "- Semicolon ( ; )\n",
    "- Exclamation mark ( ! )\n",
    "- Question mark ( ? )\n",
    "- Left Parentheses ( ( )\n",
    "- Right Parentheses ( ) )\n",
    "- Dash ( -- )\n",
    "- Return ( \\n )\n",
    "\n",
    "This dictionary will be used to token the symbols and add the delimiter (space) around it.  This separates the symbols as it's own word, making it easier for the neural network to predict on the next word. Make sure you don't use a token that could be confused as a word. Instead of using the token \"dash\", try using something like \"||dash||\"."
   ]
  },
  {
   "cell_type": "code",
   "execution_count": 160,
   "metadata": {
    "collapsed": false
   },
   "outputs": [
    {
     "name": "stdout",
     "output_type": "stream",
     "text": [
      "Tests Passed\n"
     ]
    }
   ],
   "source": [
    "def token_lookup():\n",
    "    \"\"\"\n",
    "    Generate a dict to turn punctuation into a token.\n",
    "    :return: Tokenize dictionary where the key is the punctuation and the value is the token\n",
    "    \"\"\"\n",
    "    # TODO: Implement Function\n",
    "    punct_token = {'.' : '||Period||' ,\n",
    "                   ',' : '||comma||' ,\n",
    "                   '\"' : '||quotes||' ,\n",
    "                   ';' : '||semicolon||' , \n",
    "                   '!' : '||Exclamation||' ,\n",
    "                   '?' : '||question_mark||',\n",
    "                   '(' : '||left_paranthesis||' ,\n",
    "                   ')' : '||right_paranthesis' ,\n",
    "                   '--' : '||dash||' ,\n",
    "                   '\\n' : '||return||' }\n",
    "    return punct_token\n",
    "\n",
    "\"\"\"\n",
    "DON'T MODIFY ANYTHING IN THIS CELL THAT IS BELOW THIS LINE\n",
    "\"\"\"\n",
    "tests.test_tokenize(token_lookup)"
   ]
  },
  {
   "cell_type": "markdown",
   "metadata": {},
   "source": [
    "## Preprocess all the data and save it\n",
    "Running the code cell below will preprocess all the data and save it to file."
   ]
  },
  {
   "cell_type": "code",
   "execution_count": 161,
   "metadata": {
    "collapsed": true
   },
   "outputs": [],
   "source": [
    "\"\"\"\n",
    "DON'T MODIFY ANYTHING IN THIS CELL\n",
    "\"\"\"\n",
    "# Preprocess Training, Validation, and Testing Data\n",
    "helper.preprocess_and_save_data(data_dir, token_lookup, create_lookup_tables)"
   ]
  },
  {
   "cell_type": "markdown",
   "metadata": {},
   "source": [
    "# Check Point\n",
    "This is your first checkpoint. If you ever decide to come back to this notebook or have to restart the notebook, you can start from here. The preprocessed data has been saved to disk."
   ]
  },
  {
   "cell_type": "code",
   "execution_count": 162,
   "metadata": {
    "collapsed": true
   },
   "outputs": [],
   "source": [
    "\"\"\"\n",
    "DON'T MODIFY ANYTHING IN THIS CELL\n",
    "\"\"\"\n",
    "import helper\n",
    "import numpy as np\n",
    "import problem_unittests as tests\n",
    "\n",
    "int_text, vocab_to_int, int_to_vocab, token_dict = helper.load_preprocess()"
   ]
  },
  {
   "cell_type": "markdown",
   "metadata": {},
   "source": [
    "## Build the Neural Network\n",
    "You'll build the components necessary to build a RNN by implementing the following functions below:\n",
    "- get_inputs\n",
    "- get_init_cell\n",
    "- get_embed\n",
    "- build_rnn\n",
    "- build_nn\n",
    "- get_batches\n",
    "\n",
    "### Check the Version of TensorFlow and Access to GPU"
   ]
  },
  {
   "cell_type": "code",
   "execution_count": 192,
   "metadata": {
    "collapsed": false
   },
   "outputs": [
    {
     "name": "stdout",
     "output_type": "stream",
     "text": [
      "TensorFlow Version: 1.1.0\n"
     ]
    },
    {
     "name": "stderr",
     "output_type": "stream",
     "text": [
      "/Users/Lionel/anaconda3/envs/dlnd-tf-lab/lib/python3.5/site-packages/ipykernel/__main__.py:14: UserWarning: No GPU found. Please use a GPU to train your neural network.\n"
     ]
    }
   ],
   "source": [
    "\"\"\"\n",
    "DON'T MODIFY ANYTHING IN THIS CELL\n",
    "\"\"\"\n",
    "from distutils.version import LooseVersion\n",
    "import warnings\n",
    "import tensorflow as tf\n",
    "\n",
    "# Check TensorFlow Version\n",
    "assert LooseVersion(tf.__version__) >= LooseVersion('1.0'), 'Please use TensorFlow version 1.0 or newer'\n",
    "print('TensorFlow Version: {}'.format(tf.__version__))\n",
    "\n",
    "# Check for a GPU\n",
    "if not tf.test.gpu_device_name():\n",
    "    warnings.warn('No GPU found. Please use a GPU to train your neural network.')\n",
    "else:\n",
    "    print('Default GPU Device: {}'.format(tf.test.gpu_device_name()))"
   ]
  },
  {
   "cell_type": "markdown",
   "metadata": {},
   "source": [
    "### Input\n",
    "Implement the `get_inputs()` function to create TF Placeholders for the Neural Network.  It should create the following placeholders:\n",
    "- Input text placeholder named \"input\" using the [TF Placeholder](https://www.tensorflow.org/api_docs/python/tf/placeholder) `name` parameter.\n",
    "- Targets placeholder\n",
    "- Learning Rate placeholder\n",
    "\n",
    "Return the placeholders in the following tuple `(Input, Targets, LearningRate)`"
   ]
  },
  {
   "cell_type": "code",
   "execution_count": 193,
   "metadata": {
    "collapsed": false
   },
   "outputs": [
    {
     "name": "stdout",
     "output_type": "stream",
     "text": [
      "Tests Passed\n"
     ]
    }
   ],
   "source": [
    "def get_inputs():\n",
    "    \"\"\"\n",
    "    Create TF Placeholders for input, targets, and learning rate.\n",
    "    :return: Tuple (input, targets, learning rate)\n",
    "    \"\"\"\n",
    "    # TODO: Implement Function\n",
    "    Inputs=tf.placeholder(dtype=tf.int32,\n",
    "                         shape=[None,None],\n",
    "                         name=\"input\")\n",
    "    Targets=tf.placeholder(dtype=tf.int32,\n",
    "                           shape=[None,None],\n",
    "                           name=\"targets\")\n",
    "    LearningRate=tf.placeholder(dtype=tf.float32,\n",
    "                                name=\"LearningRate\")\n",
    "    return (Inputs,Targets,LearningRate)\n",
    "\n",
    "\n",
    "\"\"\"\n",
    "DON'T MODIFY ANYTHING IN THIS CELL THAT IS BELOW THIS LINE\n",
    "\"\"\"\n",
    "tests.test_get_inputs(get_inputs)"
   ]
  },
  {
   "cell_type": "markdown",
   "metadata": {},
   "source": [
    "### Build RNN Cell and Initialize\n",
    "Stack one or more [`BasicLSTMCells`](https://www.tensorflow.org/api_docs/python/tf/contrib/rnn/BasicLSTMCell) in a [`MultiRNNCell`](https://www.tensorflow.org/api_docs/python/tf/contrib/rnn/MultiRNNCell).\n",
    "- The Rnn size should be set using `rnn_size`\n",
    "- Initalize Cell State using the MultiRNNCell's [`zero_state()`](https://www.tensorflow.org/api_docs/python/tf/contrib/rnn/MultiRNNCell#zero_state) function\n",
    "    - Apply the name \"initial_state\" to the initial state using [`tf.identity()`](https://www.tensorflow.org/api_docs/python/tf/identity)\n",
    "\n",
    "Return the cell and initial state in the following tuple `(Cell, InitialState)`"
   ]
  },
  {
   "cell_type": "code",
   "execution_count": 194,
   "metadata": {
    "collapsed": false
   },
   "outputs": [
    {
     "name": "stdout",
     "output_type": "stream",
     "text": [
      "Tests Passed\n"
     ]
    }
   ],
   "source": [
    "def get_init_cell(batch_size, rnn_size):\n",
    "    \"\"\"\n",
    "    Create an RNN Cell and initialize it.\n",
    "    :param batch_size: Size of batches\n",
    "    :param rnn_size: Size of RNNs\n",
    "    :return: Tuple (cell, initialize state)\n",
    "    \"\"\"\n",
    "    # TODO: Implement Function\n",
    "    lstm_size=rnn_size\n",
    "    lstm_layers = 1\n",
    "    keep_prob = 1\n",
    "\n",
    "    def build_cell(lstm_size, keep_prob):\n",
    "\n",
    "        # Use a basic LSTM cell\n",
    "        \n",
    "        lstm = tf.contrib.rnn.BasicLSTMCell(lstm_size)\n",
    "        \n",
    "        # Add dropout to the cell\n",
    "        drop = tf.contrib.rnn.DropoutWrapper(lstm, output_keep_prob=keep_prob)\n",
    "        return drop\n",
    "    \n",
    "    \n",
    "    Cell = tf.contrib.rnn.MultiRNNCell([build_cell(lstm_size, keep_prob) for _ in range(lstm_layers)])\n",
    "    InitialState = Cell.zero_state(batch_size, tf.float32)\n",
    "    initialstate = tf.identity(InitialState, name='initial_state')\n",
    "    \n",
    "    #print (initialstate.get_shape().as_list())\n",
    "    return (Cell,initialstate)\n",
    "\n",
    "\n",
    "\"\"\"\n",
    "DON'T MODIFY ANYTHING IN THIS CELL THAT IS BELOW THIS LINE\n",
    "\"\"\"\n",
    "tests.test_get_init_cell(get_init_cell)"
   ]
  },
  {
   "cell_type": "markdown",
   "metadata": {},
   "source": [
    "### Word Embedding\n",
    "Apply embedding to `input_data` using TensorFlow.  Return the embedded sequence."
   ]
  },
  {
   "cell_type": "code",
   "execution_count": 195,
   "metadata": {
    "collapsed": false
   },
   "outputs": [
    {
     "name": "stdout",
     "output_type": "stream",
     "text": [
      "Tests Passed\n"
     ]
    }
   ],
   "source": [
    "def get_embed(input_data, vocab_size, embed_dim):\n",
    "    \"\"\"\n",
    "    Create embedding for <input_data>.\n",
    "    :param input_data: TF placeholder for text input.\n",
    "    :param vocab_size: Number of words in vocabulary.\n",
    "    :param embed_dim: Number of embedding dimensions\n",
    "    :return: Embedded input.\n",
    "    \"\"\"\n",
    "    # TODO: Implement Function\n",
    "    embedding = tf.Variable(tf.random_uniform((vocab_size, embed_dim), -0.5, 0.5))\n",
    "    embed = tf.nn.embedding_lookup(embedding, input_data)\n",
    "    return embed\n",
    "\n",
    "\n",
    "\"\"\"\n",
    "DON'T MODIFY ANYTHING IN THIS CELL THAT IS BELOW THIS LINE\n",
    "\"\"\"\n",
    "tests.test_get_embed(get_embed)"
   ]
  },
  {
   "cell_type": "markdown",
   "metadata": {},
   "source": [
    "### Build RNN\n",
    "You created a RNN Cell in the `get_init_cell()` function.  Time to use the cell to create a RNN.\n",
    "- Build the RNN using the [`tf.nn.dynamic_rnn()`](https://www.tensorflow.org/api_docs/python/tf/nn/dynamic_rnn)\n",
    " - Apply the name \"final_state\" to the final state using [`tf.identity()`](https://www.tensorflow.org/api_docs/python/tf/identity)\n",
    "\n",
    "Return the outputs and final_state state in the following tuple `(Outputs, FinalState)` "
   ]
  },
  {
   "cell_type": "code",
   "execution_count": 196,
   "metadata": {
    "collapsed": false
   },
   "outputs": [
    {
     "name": "stdout",
     "output_type": "stream",
     "text": [
      "Tests Passed\n"
     ]
    }
   ],
   "source": [
    "def build_rnn(cell, inputs):\n",
    "    \"\"\"\n",
    "    Create a RNN using a RNN Cell\n",
    "    :param cell: RNN Cell\n",
    "    :param inputs: Input text data\n",
    "    :return: Tuple (Outputs, Final State)\n",
    "    \"\"\"\n",
    "    # TODO: Implement Function\n",
    "    \n",
    "    \n",
    "    Outputs,FinalState = tf.nn.dynamic_rnn(cell,inputs,dtype=tf.float32)\n",
    "    FinalState = tf.identity(FinalState, name='final_state')\n",
    "    return (Outputs,FinalState)\n",
    "\n",
    "\n",
    "\"\"\"\n",
    "DON'T MODIFY ANYTHING IN THIS CELL THAT IS BELOW THIS LINE\n",
    "\"\"\"\n",
    "tests.test_build_rnn(build_rnn)"
   ]
  },
  {
   "cell_type": "markdown",
   "metadata": {},
   "source": [
    "### Build the Neural Network\n",
    "Apply the functions you implemented above to:\n",
    "- Apply embedding to `input_data` using your `get_embed(input_data, vocab_size, embed_dim)` function.\n",
    "- Build RNN using `cell` and your `build_rnn(cell, inputs)` function.\n",
    "- Apply a fully connected layer with a linear activation and `vocab_size` as the number of outputs.\n",
    "\n",
    "Return the logits and final state in the following tuple (Logits, FinalState) "
   ]
  },
  {
   "cell_type": "code",
   "execution_count": 197,
   "metadata": {
    "collapsed": false,
    "scrolled": true
   },
   "outputs": [
    {
     "name": "stdout",
     "output_type": "stream",
     "text": [
      "rnn_shape[128, 5, 256]\n",
      "Logit_shape[128, 5, 27]\n",
      "Tests Passed\n"
     ]
    }
   ],
   "source": [
    "def build_nn(cell, rnn_size, input_data, vocab_size, embed_dim):\n",
    "    \"\"\"\n",
    "    Build part of the neural network\n",
    "    :param cell: RNN cell\n",
    "    :param rnn_size: Size of rnns\n",
    "    :param input_data: Input data\n",
    "    :param vocab_size: Vocabulary size\n",
    "    :param embed_dim: Number of embedding dimensions\n",
    "    :return: Tuple (Logits, FinalState)\n",
    "    \"\"\"\n",
    "    # TODO: Implement Function\n",
    "    embed_input=get_embed(input_data,vocab_size,embed_dim)\n",
    "    rnn_output,FinalState=build_rnn(cell,embed_input)\n",
    "\n",
    "    #a = rnn_output.get_shape().as_list()[-3]\n",
    "    #b = rnn_output.get_shape().as_list()[-2]\n",
    "    #c = rnn_output.get_shape().as_list()[-1]\n",
    "    \n",
    "    \n",
    "    \n",
    "    winit = tf.truncated_normal_initializer(stddev=0.05)\n",
    "    binit = tf.zeros_initializer()\n",
    "    \n",
    "    Logits = tf.contrib.layers.fully_connected(inputs=rnn_output,\n",
    "                                               num_outputs=vocab_size,\n",
    "                                               activation_fn=None,\n",
    "                                               weights_initializer=winit,\n",
    "                                               biases_initializer=binit)\n",
    "    \n",
    "    \n",
    "    print (\"rnn_shape{}\".format(rnn_output.get_shape().as_list()))\n",
    "    \n",
    "    print (\"Logit_shape{}\".format(Logits.get_shape().as_list()))\n",
    "    \n",
    "    \n",
    "\n",
    "       \n",
    "    return (Logits, FinalState)\n",
    "\n",
    "\n",
    "\"\"\"\n",
    "DON'T MODIFY ANYTHING IN THIS CELL THAT IS BELOW THIS LINE\n",
    "\"\"\"\n",
    "tests.test_build_nn(build_nn)"
   ]
  },
  {
   "cell_type": "markdown",
   "metadata": {},
   "source": [
    "### Batches\n",
    "Implement `get_batches` to create batches of input and targets using `int_text`.  The batches should be a Numpy array with the shape `(number of batches, 2, batch size, sequence length)`. Each batch contains two elements:\n",
    "- The first element is a single batch of **input** with the shape `[batch size, sequence length]`\n",
    "- The second element is a single batch of **targets** with the shape `[batch size, sequence length]`\n",
    "\n",
    "If you can't fill the last batch with enough data, drop the last batch.\n",
    "\n",
    "For exmple, `get_batches([1, 2, 3, 4, 5, 6, 7, 8, 9, 10, 11, 12, 13, 14, 15, 16, 17, 18, 19, 20], 3, 2)` would return a Numpy array of the following:\n",
    "```\n",
    "[\n",
    "  # First Batch\n",
    "  [\n",
    "    # Batch of Input\n",
    "    [[ 1  2], [ 7  8], [13 14]]\n",
    "    # Batch of targets\n",
    "    [[ 2  3], [ 8  9], [14 15]]\n",
    "  ]\n",
    "\n",
    "  # Second Batch\n",
    "  [\n",
    "    # Batch of Input\n",
    "    [[ 3  4], [ 9 10], [15 16]]\n",
    "    # Batch of targets\n",
    "    [[ 4  5], [10 11], [16 17]]\n",
    "  ]\n",
    "\n",
    "  # Third Batch\n",
    "  [\n",
    "    # Batch of Input\n",
    "    [[ 5  6], [11 12], [17 18]]\n",
    "    # Batch of targets\n",
    "    [[ 6  7], [12 13], [18  1]]\n",
    "  ]\n",
    "]\n",
    "```\n",
    "\n",
    "Notice that the last target value in the last batch is the first input value of the first batch. In this case, `1`. This is a common technique used when creating sequence batches, although it is rather unintuitive."
   ]
  },
  {
   "cell_type": "code",
   "execution_count": 198,
   "metadata": {
    "collapsed": false,
    "scrolled": true
   },
   "outputs": [
    {
     "name": "stdout",
     "output_type": "stream",
     "text": [
      "Tests Passed\n"
     ]
    }
   ],
   "source": [
    "def get_batches(int_text, batch_size, seq_length):\n",
    "    \"\"\"\n",
    "    Return batches of input and target\n",
    "    :param int_text: Text with the words replaced by their ids\n",
    "    :param batch_size: The size of batch\n",
    "    :param seq_length: The length of sequence\n",
    "    :return: Batches as a Numpy array\n",
    "    \"\"\"\n",
    "    # TODO: Implement Function\n",
    "    #print (len(int_text))\n",
    "    #print (batch_size)\n",
    "    no_of_batches = len(int_text) // (batch_size *seq_length)\n",
    "    #print (no_of_batches)\n",
    "    #print (seq_length)\n",
    "    batches = np.zeros(shape=[no_of_batches,2,batch_size,seq_length])\n",
    "    int_text =  int_text[:(batch_size*seq_length*no_of_batches)]\n",
    "    out_text =  int_text[1:] + [int_text[0]]\n",
    "    #print (int_text)\n",
    "    #print (out_text) \n",
    "    \n",
    "    \n",
    "    def get_shuffled_data(num_batches,btch_sz,seq_l,in_text):\n",
    "        count = 0\n",
    "        input_samples = []\n",
    "        while count < num_batches:\n",
    "            k = 0 \n",
    "            while k < (btch_sz):\n",
    "                j=0\n",
    "                while j < (seq_l):\n",
    "                    x = in_text[(count * seq_l) + k*num_batches*seq_l+j]\n",
    "                    input_samples = input_samples + [x]\n",
    "                    #print (\"x_value is {}\".format(x))\n",
    "                    j = j + 1\n",
    "                    #print (input_samples)\n",
    "                k = k+1\n",
    "                #print (\"k_value is {}\".format(k))\n",
    "            count = count + 1\n",
    "            #print (\"count_value is {}\".format(count))\n",
    "        return input_samples\n",
    "        \n",
    "    int_text = get_shuffled_data(no_of_batches,batch_size,seq_length,int_text)\n",
    "    out_text = get_shuffled_data(no_of_batches,batch_size,seq_length,out_text)\n",
    "\n",
    "    int_text= np.array(int_text)\n",
    "    out_text = np.array(out_text)\n",
    "    #print (int_text)\n",
    "    #print (out_text)\n",
    "    x = int_text.reshape(no_of_batches,batch_size,seq_length)\n",
    "    y = out_text.reshape(no_of_batches,batch_size,seq_length)\n",
    "    #print(y)\n",
    "    \n",
    "    i=0\n",
    "    batches=[]\n",
    "    \n",
    "    while i<no_of_batches:\n",
    "        z=[x[i, : , :] , y[i, : , :]]\n",
    "        batches.append(z)\n",
    "        i = i+1\n",
    "    \n",
    "    batches = np.asarray(batches)\n",
    "        \n",
    "    #batches = zout\n",
    "    #print (x.shape)\n",
    "    #print (y.shape)\n",
    "    #print (batches.shape)\n",
    "    #print (batches[0, 0 , 127, :])\n",
    "    return batches\n",
    "\n",
    "#test= [1, 2, 3, 4, 5, 6, 7, 8, 9, 10, 11, 12, 13, 14, 15, 16, 17, 18, 19, 20]\n",
    "#bs =2\n",
    "#sl=3\n",
    "#out = get_batches(test,bs , sl)\n",
    "#out = np.array(out)\n",
    "#print (out.shape)\n",
    "#print(out)\n",
    "\n",
    "\n",
    "\"\"\"\n",
    "DON'T MODIFY ANYTHING IN THIS CELL THAT IS BELOW THIS LINE\n",
    "\"\"\"\n",
    "tests.test_get_batches(get_batches)"
   ]
  },
  {
   "cell_type": "markdown",
   "metadata": {},
   "source": [
    "## Neural Network Training\n",
    "### Hyperparameters\n",
    "Tune the following parameters:\n",
    "\n",
    "- Set `num_epochs` to the number of epochs.\n",
    "- Set `batch_size` to the batch size.\n",
    "- Set `rnn_size` to the size of the RNNs.\n",
    "- Set `embed_dim` to the size of the embedding.\n",
    "- Set `seq_length` to the length of sequence.\n",
    "- Set `learning_rate` to the learning rate.\n",
    "- Set `show_every_n_batches` to the number of batches the neural network should print progress."
   ]
  },
  {
   "cell_type": "code",
   "execution_count": 200,
   "metadata": {
    "collapsed": true
   },
   "outputs": [],
   "source": [
    "# Number of Epochs\n",
    "#num_epochs = 400\n",
    "num_epochs = 200\n",
    "# Batch Size\n",
    "batch_size = 128\n",
    "# RNN Size\n",
    "rnn_size = 256\n",
    "#rnn_size = 192\n",
    "#rnn_size = 128\n",
    "# Embedding Dimension Size\n",
    "embed_dim = 128\n",
    "# Sequence Length\n",
    "seq_length = 128\n",
    "# Learning Rate\n",
    "#learning_rate = 0.05\n",
    "learning_rate = 0.0667\n",
    "#learning_rate = 0.075\n",
    "# Show stats for every n number of batches\n",
    "show_every_n_batches = 16\n",
    "\n",
    "\"\"\"\n",
    "DON'T MODIFY ANYTHING IN THIS CELL THAT IS BELOW THIS LINE\n",
    "\"\"\"\n",
    "save_dir = './save'"
   ]
  },
  {
   "cell_type": "markdown",
   "metadata": {},
   "source": [
    "### Build the Graph\n",
    "Build the graph using the neural network you implemented."
   ]
  },
  {
   "cell_type": "code",
   "execution_count": 201,
   "metadata": {
    "collapsed": false
   },
   "outputs": [
    {
     "name": "stdout",
     "output_type": "stream",
     "text": [
      "vocab_size:6779\n",
      "input_data_shape:Tensor(\"Shape:0\", shape=(2,), dtype=int32)\n",
      "done get inputs\n",
      "done get intit cell\n",
      "rnn_shape[None, None, 256]\n",
      "Logit_shape[None, None, 6779]\n",
      "done build_nn\n",
      "done getting probs\n",
      "done getting cost\n",
      "start backprop\n",
      "done backprop\n",
      "done building \n"
     ]
    }
   ],
   "source": [
    "\"\"\"\n",
    "DON'T MODIFY ANYTHING IN THIS CELL\n",
    "\"\"\"\n",
    "from tensorflow.contrib import seq2seq\n",
    "\n",
    "train_graph = tf.Graph()\n",
    "with train_graph.as_default():\n",
    "    vocab_size = len(int_to_vocab)\n",
    "    print (\"vocab_size:{}\".format(vocab_size))\n",
    "    input_text, targets, lr = get_inputs()\n",
    "    input_data_shape = tf.shape(input_text)\n",
    "    print (\"input_data_shape:{}\".format(input_data_shape))\n",
    "    print(\"done get inputs\")\n",
    "    cell, initial_state = get_init_cell(input_data_shape[0], rnn_size)\n",
    "    print(\"done get intit cell\")\n",
    "    logits, final_state = build_nn(cell, rnn_size, input_text, vocab_size, embed_dim)\n",
    "    print (\"done build_nn\")\n",
    "\n",
    "    # Probabilities for generating words\n",
    "    probs = tf.nn.softmax(logits, name='probs')\n",
    "    print(\"done getting probs\")\n",
    "\n",
    "    # Loss function\n",
    "    cost = seq2seq.sequence_loss(\n",
    "        logits,\n",
    "        targets,\n",
    "        tf.ones([input_data_shape[0], input_data_shape[1]]))\n",
    "    \n",
    "    print (\"done getting cost\")\n",
    "    \n",
    "    # Optimizer\n",
    "    optimizer = tf.train.AdamOptimizer(lr)\n",
    "    \n",
    "    print (\"start backprop\")\n",
    "\n",
    "    # Gradient Clipping\n",
    "    gradients = optimizer.compute_gradients(cost)\n",
    "    capped_gradients = [(tf.clip_by_value(grad, -1., 1.), var) for grad, var in gradients if grad is not None]\n",
    "    \n",
    "    print (\"done backprop\")\n",
    "    \n",
    "    train_op = optimizer.apply_gradients(capped_gradients)\n",
    "    print (\"done building \")"
   ]
  },
  {
   "cell_type": "markdown",
   "metadata": {},
   "source": [
    "## Train\n",
    "Train the neural network on the preprocessed data.  If you have a hard time getting a good loss, check the [forums](https://discussions.udacity.com/) to see if anyone is having the same problem."
   ]
  },
  {
   "cell_type": "code",
   "execution_count": 202,
   "metadata": {
    "collapsed": false
   },
   "outputs": [
    {
     "name": "stdout",
     "output_type": "stream",
     "text": [
      "shape of batches:(4, 2, 128, 128)\n",
      "Testout Last input sequence\n",
      "[2964 6004  462 6772 6775 6455 2754 6066 5749 2964 5286 6772 6775 6455 6771\n",
      " 3047 4037 6776  909 6393 6066 5116 6011 4080 2649 2336 3923 4695 6772 6775\n",
      "  156 6771 5279 6776 2917  909  568 3081  542 6025 6716 5295 5396 3361 6772\n",
      " 3610 6768 2689 2917  542  167  437 6772 6771 5280 6776  860 2917 2580 2917\n",
      "  908 2157 6431 6004 2263 6772 6775  156 6771 5394 6776 1670 6772 6775 6775\n",
      " 6775 6175 6771 6061 6776 2822 6768 2921 4756 6113 6737 3057 3681 4195 4144\n",
      " 5962 6122 6772 6740 2498  510   63 2292  793 6772 6775 6175 6771 1771  860\n",
      " 5403 6776  879 6768 2822 6772 6775 6175 2920 3388 6737 2964 4144   63 3458\n",
      " 5109 6772 6772 6772 6775 6775 6775 6745]\n",
      "Testout Last output sequence\n",
      "[6004  462 6772 6775 6455 2754 6066 5749 2964 5286 6772 6775 6455 6771 3047\n",
      " 4037 6776  909 6393 6066 5116 6011 4080 2649 2336 3923 4695 6772 6775  156\n",
      " 6771 5279 6776 2917  909  568 3081  542 6025 6716 5295 5396 3361 6772 3610\n",
      " 6768 2689 2917  542  167  437 6772 6771 5280 6776  860 2917 2580 2917  908\n",
      " 2157 6431 6004 2263 6772 6775  156 6771 5394 6776 1670 6772 6775 6775 6775\n",
      " 6175 6771 6061 6776 2822 6768 2921 4756 6113 6737 3057 3681 4195 4144 5962\n",
      " 6122 6772 6740 2498  510   63 2292  793 6772 6775 6175 6771 1771  860 5403\n",
      " 6776  879 6768 2822 6772 6775 6175 2920 3388 6737 2964 4144   63 3458 5109\n",
      " 6772 6772 6772 6775 6775 6775 6745 3823]\n",
      "Get first input sequence to test match of last target and first input\n",
      "[3823 6771 3044 4357 6776 3814 5884 6772 6525 5962 1886 3704 6066 1748 6772\n",
      " 6775  489 1861 6768 6713 6768 2741 6768 3070 3747 5977 6773 3328 3937 6768\n",
      " 4936 6772 6775 3823 6771 3044 4357 6776 2808 4144 6768 2920 1045 6772 6771\n",
      " 6066  472 6776 3747 4936 6772 3747 4936 6772 2762 6768 2680  286 5123 3747\n",
      " 4936 6768 3330 6773 6775 3823 6771 3044 4357 6776 3450 6737 3458 4626 6772\n",
      " 4147 4111 5981 1490 2921 2498  967 6737 6768  253 2921 2498  957 3923 3937\n",
      " 4144 6749  426 6613  249 2930 4367 6772 6775 3823 6509 5962 3662 2822 6773\n",
      " 6740 4059 6749 4053 1856 5129 6772 6775 2828 2917 2511 3923 4579 6768 3813\n",
      " 6772 2463 3681  275 4147 6772 6775 3823]\n",
      "Epoch   0 Batch    0/4   train_loss = 8.822\n",
      "Epoch   4 Batch    0/4   train_loss = 4.592\n",
      "Epoch   8 Batch    0/4   train_loss = 3.588\n",
      "Epoch  12 Batch    0/4   train_loss = 2.867\n",
      "Epoch  16 Batch    0/4   train_loss = 2.352\n",
      "Epoch  20 Batch    0/4   train_loss = 2.032\n",
      "Epoch  24 Batch    0/4   train_loss = 1.685\n",
      "Epoch  28 Batch    0/4   train_loss = 1.449\n",
      "Epoch  32 Batch    0/4   train_loss = 1.287\n",
      "Epoch  36 Batch    0/4   train_loss = 1.095\n",
      "Epoch  40 Batch    0/4   train_loss = 0.960\n",
      "Epoch  44 Batch    0/4   train_loss = 0.845\n",
      "Epoch  48 Batch    0/4   train_loss = 0.811\n",
      "Epoch  52 Batch    0/4   train_loss = 0.835\n",
      "Epoch  56 Batch    0/4   train_loss = 0.792\n",
      "Epoch  60 Batch    0/4   train_loss = 0.708\n",
      "Epoch  64 Batch    0/4   train_loss = 0.619\n",
      "Epoch  68 Batch    0/4   train_loss = 0.577\n",
      "Epoch  72 Batch    0/4   train_loss = 0.540\n",
      "Epoch  76 Batch    0/4   train_loss = 0.532\n",
      "Epoch  80 Batch    0/4   train_loss = 0.503\n",
      "Epoch  84 Batch    0/4   train_loss = 0.484\n",
      "Epoch  88 Batch    0/4   train_loss = 0.494\n",
      "Epoch  92 Batch    0/4   train_loss = 0.513\n",
      "Epoch  96 Batch    0/4   train_loss = 0.541\n",
      "Epoch 100 Batch    0/4   train_loss = 0.657\n",
      "Epoch 104 Batch    0/4   train_loss = 0.734\n",
      "Epoch 108 Batch    0/4   train_loss = 0.748\n",
      "Epoch 112 Batch    0/4   train_loss = 0.761\n",
      "Epoch 116 Batch    0/4   train_loss = 0.696\n",
      "Epoch 120 Batch    0/4   train_loss = 0.640\n",
      "Epoch 124 Batch    0/4   train_loss = 0.572\n",
      "Epoch 128 Batch    0/4   train_loss = 0.525\n",
      "Epoch 132 Batch    0/4   train_loss = 0.478\n",
      "Epoch 136 Batch    0/4   train_loss = 0.453\n",
      "Epoch 140 Batch    0/4   train_loss = 0.404\n",
      "Epoch 144 Batch    0/4   train_loss = 0.375\n",
      "Epoch 148 Batch    0/4   train_loss = 0.335\n",
      "Epoch 152 Batch    0/4   train_loss = 0.281\n",
      "Epoch 156 Batch    0/4   train_loss = 0.235\n",
      "Epoch 160 Batch    0/4   train_loss = 0.204\n",
      "Epoch 164 Batch    0/4   train_loss = 0.180\n",
      "Epoch 168 Batch    0/4   train_loss = 0.150\n",
      "Epoch 172 Batch    0/4   train_loss = 0.124\n",
      "Epoch 176 Batch    0/4   train_loss = 0.100\n",
      "Epoch 180 Batch    0/4   train_loss = 0.085\n",
      "Epoch 184 Batch    0/4   train_loss = 0.073\n",
      "Epoch 188 Batch    0/4   train_loss = 0.064\n",
      "Epoch 192 Batch    0/4   train_loss = 0.058\n",
      "Epoch 196 Batch    0/4   train_loss = 0.052\n",
      "Model Trained and Saved\n"
     ]
    }
   ],
   "source": [
    "\"\"\"\n",
    "DON'T MODIFY ANYTHING IN THIS CELL\n",
    "\"\"\"\n",
    "batches = get_batches(int_text, batch_size, seq_length)\n",
    "batches_shape = batches.shape\n",
    "print (\"shape of batches:{}\".format(batches_shape))\n",
    "print (\"Testout Last input sequence\")\n",
    "print (batches[-1,0,-1,:])\n",
    "print (\"Testout Last output sequence\")\n",
    "print (batches[-1,1,-1,:])\n",
    "print (\"Get first input sequence to test match of last target and first input\")\n",
    "print (batches[0,0,0,:])\n",
    "\n",
    "with tf.Session(graph=train_graph) as sess:\n",
    "    sess.run(tf.global_variables_initializer())\n",
    "\n",
    "    for epoch_i in range(num_epochs):\n",
    "        state = sess.run(initial_state, {input_text: batches[0][0]})\n",
    "\n",
    "        for batch_i, (x, y) in enumerate(batches):\n",
    "            feed = {\n",
    "                input_text: x,\n",
    "                targets: y,\n",
    "                initial_state: state,\n",
    "                lr: learning_rate}\n",
    "            train_loss, state, _ = sess.run([cost, final_state, train_op], feed)\n",
    "\n",
    "            # Show every <show_every_n_batches> batches\n",
    "            if (epoch_i * len(batches) + batch_i) % show_every_n_batches == 0:\n",
    "                print('Epoch {:>3} Batch {:>4}/{}   train_loss = {:.3f}'.format(\n",
    "                    epoch_i,\n",
    "                    batch_i,\n",
    "                    len(batches),\n",
    "                    train_loss))\n",
    "\n",
    "    # Save Model\n",
    "    saver = tf.train.Saver()\n",
    "    saver.save(sess, save_dir)\n",
    "    print('Model Trained and Saved')"
   ]
  },
  {
   "cell_type": "markdown",
   "metadata": {},
   "source": [
    "## Save Parameters\n",
    "Save `seq_length` and `save_dir` for generating a new TV script."
   ]
  },
  {
   "cell_type": "code",
   "execution_count": 203,
   "metadata": {
    "collapsed": true
   },
   "outputs": [],
   "source": [
    "\"\"\"\n",
    "DON'T MODIFY ANYTHING IN THIS CELL\n",
    "\"\"\"\n",
    "# Save parameters for checkpoint\n",
    "helper.save_params((seq_length, save_dir))"
   ]
  },
  {
   "cell_type": "markdown",
   "metadata": {},
   "source": [
    "# Checkpoint"
   ]
  },
  {
   "cell_type": "code",
   "execution_count": 204,
   "metadata": {
    "collapsed": true
   },
   "outputs": [],
   "source": [
    "\"\"\"\n",
    "DON'T MODIFY ANYTHING IN THIS CELL\n",
    "\"\"\"\n",
    "import tensorflow as tf\n",
    "import numpy as np\n",
    "import helper\n",
    "import problem_unittests as tests\n",
    "\n",
    "_, vocab_to_int, int_to_vocab, token_dict = helper.load_preprocess()\n",
    "seq_length, load_dir = helper.load_params()"
   ]
  },
  {
   "cell_type": "markdown",
   "metadata": {},
   "source": [
    "## Implement Generate Functions\n",
    "### Get Tensors\n",
    "Get tensors from `loaded_graph` using the function [`get_tensor_by_name()`](https://www.tensorflow.org/api_docs/python/tf/Graph#get_tensor_by_name).  Get the tensors using the following names:\n",
    "- \"input:0\"\n",
    "- \"initial_state:0\"\n",
    "- \"final_state:0\"\n",
    "- \"probs:0\"\n",
    "\n",
    "Return the tensors in the following tuple `(InputTensor, InitialStateTensor, FinalStateTensor, ProbsTensor)` "
   ]
  },
  {
   "cell_type": "code",
   "execution_count": 207,
   "metadata": {
    "collapsed": false
   },
   "outputs": [
    {
     "name": "stdout",
     "output_type": "stream",
     "text": [
      "Tests Passed\n"
     ]
    }
   ],
   "source": [
    "def get_tensors(loaded_graph):\n",
    "    \"\"\"\n",
    "    Get input, initial state, final state, and probabilities tensor from <loaded_graph>\n",
    "    :param loaded_graph: TensorFlow graph loaded from file\n",
    "    :return: Tuple (InputTensor, InitialStateTensor, FinalStateTensor, ProbsTensor)\n",
    "    \"\"\"\n",
    "    # TODO: Implement Function\n",
    "    \n",
    "    InputTensor = loaded_graph.get_tensor_by_name('input:0')\n",
    "    InitialStateTensor= loaded_graph.get_tensor_by_name('initial_state:0')\n",
    "    FinalStateTensor= loaded_graph.get_tensor_by_name('final_state:0')\n",
    "    ProbsTensor= loaded_graph.get_tensor_by_name('probs:0')\n",
    "    return (InputTensor,InitialStateTensor,FinalStateTensor,ProbsTensor)\n",
    "\n",
    "\n",
    "\"\"\"\n",
    "DON'T MODIFY ANYTHING IN THIS CELL THAT IS BELOW THIS LINE\n",
    "\"\"\"\n",
    "tests.test_get_tensors(get_tensors)"
   ]
  },
  {
   "cell_type": "markdown",
   "metadata": {},
   "source": [
    "### Choose Word\n",
    "Implement the `pick_word()` function to select the next word using `probabilities`."
   ]
  },
  {
   "cell_type": "code",
   "execution_count": 224,
   "metadata": {
    "collapsed": false
   },
   "outputs": [
    {
     "name": "stdout",
     "output_type": "stream",
     "text": [
      "Tests Passed\n"
     ]
    }
   ],
   "source": [
    "def pick_word(probabilities, int_to_vocab):\n",
    "    \"\"\"\n",
    "    Pick the next word in the generated text\n",
    "    :param probabilities: Probabilites of the next word\n",
    "    :param int_to_vocab: Dictionary of word ids as the keys and words as the values\n",
    "    :return: String of the predicted word\n",
    "    \"\"\"\n",
    "    # TODO: Implement Function\n",
    "    #print (\"probabilities\")\n",
    "    #print (probabilities)\n",
    "    #print (\"int_to_word\")\n",
    "    #print (int_to_vocab)\n",
    "    max_prob = np.amax(probabilities)\n",
    "    #print(\"max_prob:{}\".format(max_prob))\n",
    "    prob = list(probabilities)\n",
    "    max_prob_index = prob.index(max_prob)\n",
    "    #print(\"max_prob_index:{}\".format(max_prob_index))\n",
    "    out=int_to_vocab[max_prob_index]\n",
    "    #print (\"pred_word:{}\".format(out))\n",
    "    \n",
    "    return out\n",
    "\n",
    "\n",
    "\"\"\"\n",
    "DON'T MODIFY ANYTHING IN THIS CELL THAT IS BELOW THIS LINE\n",
    "\"\"\"\n",
    "tests.test_pick_word(pick_word)"
   ]
  },
  {
   "cell_type": "markdown",
   "metadata": {},
   "source": [
    "## Generate TV Script\n",
    "This will generate the TV script for you.  Set `gen_length` to the length of TV script you want to generate."
   ]
  },
  {
   "cell_type": "code",
   "execution_count": 225,
   "metadata": {
    "collapsed": false,
    "scrolled": false
   },
   "outputs": [
    {
     "name": "stdout",
     "output_type": "stream",
     "text": [
      "INFO:tensorflow:Restoring parameters from ./save\n",
      "moe_szyslak:(into phone) moe's tavern. where the elite meet to drink.\n",
      "bart_simpson: eh, yeah, hello, is mike there? last name, rotch.\n",
      "moe_szyslak:(into phone) hold on, i'll check.(to barflies) mike rotch. mike rotch. hey, has anybody seen mike rotch, lately?\n",
      "moe_szyslak:(into phone) listen you little puke. one of these days i'm gonna catch you, and i'm gonna carve my name on your back with an ice pick.\n",
      "moe_szyslak: what's the matter homer? you're not your normal effervescent self.\n",
      "homer_simpson: i got my problems, moe. give me another one.\n",
      "moe_szyslak: homer, i'm so sorry. have a free beer.\n",
      "homer_simpson: oh.\n",
      "homer_simpson:(drunk, emotional) ah, i don't care about the color of your skin, lenny. you're my friend!(cries)\n",
      "lenny_leonard: man, i've never seen anybody get loaded so fast.\n",
      "moe_szyslak: homer, can you say the alphabet backwards?\n",
      "homer_simpson:(to comic book\n"
     ]
    }
   ],
   "source": [
    "gen_length = 200\n",
    "# homer_simpson, moe_szyslak, or Barney_Gumble\n",
    "prime_word = 'moe_szyslak'\n",
    "\n",
    "\"\"\"\n",
    "DON'T MODIFY ANYTHING IN THIS CELL THAT IS BELOW THIS LINE\n",
    "\"\"\"\n",
    "loaded_graph = tf.Graph()\n",
    "with tf.Session(graph=loaded_graph) as sess:\n",
    "    # Load saved model\n",
    "    loader = tf.train.import_meta_graph(load_dir + '.meta')\n",
    "    loader.restore(sess, load_dir)\n",
    "\n",
    "    # Get Tensors from loaded model\n",
    "    input_text, initial_state, final_state, probs = get_tensors(loaded_graph)\n",
    "\n",
    "    # Sentences generation setup\n",
    "    gen_sentences = [prime_word + ':']\n",
    "    prev_state = sess.run(initial_state, {input_text: np.array([[1]])})\n",
    "\n",
    "    # Generate sentences\n",
    "    for n in range(gen_length):\n",
    "        # Dynamic Input\n",
    "        dyn_input = [[vocab_to_int[word] for word in gen_sentences[-seq_length:]]]\n",
    "        dyn_seq_length = len(dyn_input[0])\n",
    "\n",
    "        # Get Prediction\n",
    "        probabilities, prev_state = sess.run(\n",
    "            [probs, final_state],\n",
    "            {input_text: dyn_input, initial_state: prev_state})\n",
    "        \n",
    "        pred_word = pick_word(probabilities[dyn_seq_length-1], int_to_vocab)\n",
    "\n",
    "        gen_sentences.append(pred_word)\n",
    "    \n",
    "    # Remove tokens\n",
    "    tv_script = ' '.join(gen_sentences)\n",
    "    for key, token in token_dict.items():\n",
    "        ending = ' ' if key in ['\\n', '(', '\"'] else ''\n",
    "        tv_script = tv_script.replace(' ' + token.lower(), key)\n",
    "    tv_script = tv_script.replace('\\n ', '\\n')\n",
    "    tv_script = tv_script.replace('( ', '(')\n",
    "        \n",
    "    print(tv_script)"
   ]
  },
  {
   "cell_type": "markdown",
   "metadata": {},
   "source": [
    "# The TV Script is Nonsensical\n",
    "It's ok if the TV script doesn't make any sense.  We trained on less than a megabyte of text.  In order to get good results, you'll have to use a smaller vocabulary or get more data.  Luckly there's more data!  As we mentioned in the begging of this project, this is a subset of [another dataset](https://www.kaggle.com/wcukierski/the-simpsons-by-the-data).  We didn't have you train on all the data, because that would take too long.  However, you are free to train your neural network on all the data.  After you complete the project, of course.\n",
    "# Submitting This Project\n",
    "When submitting this project, make sure to run all the cells before saving the notebook. Save the notebook file as \"dlnd_tv_script_generation.ipynb\" and save it as a HTML file under \"File\" -> \"Download as\". Include the \"helper.py\" and \"problem_unittests.py\" files in your submission."
   ]
  }
 ],
 "metadata": {
  "kernelspec": {
   "display_name": "Python 3",
   "language": "python",
   "name": "python3"
  },
  "language_info": {
   "codemirror_mode": {
    "name": "ipython",
    "version": 3
   },
   "file_extension": ".py",
   "mimetype": "text/x-python",
   "name": "python",
   "nbconvert_exporter": "python",
   "pygments_lexer": "ipython3",
   "version": "3.5.4"
  },
  "widgets": {
   "state": {},
   "version": "1.1.2"
  }
 },
 "nbformat": 4,
 "nbformat_minor": 1
}
